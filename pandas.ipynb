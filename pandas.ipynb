{
 "cells": [
  {
   "cell_type": "code",
   "execution_count": 52,
   "metadata": {
    "scrolled": false
   },
   "outputs": [],
   "source": [
    "import pandas as p"
   ]
  },
  {
   "cell_type": "code",
   "execution_count": 98,
   "metadata": {},
   "outputs": [
    {
     "name": "stdout",
     "output_type": "stream",
     "text": [
      "{'name': 1      aman\n",
      "2     asbdj\n",
      "3    hjdgcj\n",
      "4    hjdgcj\n",
      "5       abc\n",
      "dtype: object, 'class': 1    1st\n",
      "2    2nd\n",
      "3    3rd\n",
      "4    3rd\n",
      "dtype: object, 'roll no.': 1    1\n",
      "2    2\n",
      "3    3\n",
      "4    3\n",
      "dtype: int32}\n"
     ]
    }
   ],
   "source": [
    "data={\"name\":p.Series([\"aman\",\"asbdj\",\"hjdgcj\",\"hjdgcj\",\"abc\"],index=[1,2,3,4,5]),\"class\":p.Series([\"1st\",\"2nd\",\"3rd\",\"3rd\"],index=[1,2,3,4]),\"roll no.\":p.Series([1,2,3,3],index=[1,2,3,4],dtype=int)}\n",
    "print(data)"
   ]
  },
  {
   "cell_type": "code",
   "execution_count": 99,
   "metadata": {},
   "outputs": [
    {
     "name": "stdout",
     "output_type": "stream",
     "text": [
      "     name class  roll no.\n",
      "1    aman   1st       1.0\n",
      "2   asbdj   2nd       2.0\n",
      "3  hjdgcj   3rd       3.0\n",
      "4  hjdgcj   3rd       3.0\n",
      "5     abc   NaN       NaN\n"
     ]
    }
   ],
   "source": [
    "abc=p.DataFrame(data)\n",
    "print(abc)"
   ]
  },
  {
   "cell_type": "code",
   "execution_count": 100,
   "metadata": {},
   "outputs": [],
   "source": [
    "abc.to_csv(\"xyz.csv\")"
   ]
  },
  {
   "cell_type": "code",
   "execution_count": 94,
   "metadata": {},
   "outputs": [
    {
     "name": "stdout",
     "output_type": "stream",
     "text": [
      "   Unnamed: 0    name class  roll no.\n",
      "0           1    aman   1st       1.0\n",
      "1           2   asbdj   2nd       2.0\n",
      "2           3  hjdgcj   3rd       3.0\n",
      "3           4  hjdgcj   3rd       3.0\n",
      "4           5     abc   NaN       NaN\n"
     ]
    }
   ],
   "source": [
    "pqr=p.read_csv(\"xyz.csv\")\n",
    "print(pqr)"
   ]
  },
  {
   "cell_type": "code",
   "execution_count": 95,
   "metadata": {},
   "outputs": [
    {
     "name": "stdout",
     "output_type": "stream",
     "text": [
      "     name class  roll no.\n",
      "1    aman   1st       1.0\n",
      "2   asbdj   2nd       2.0\n",
      "3  hjdgcj   3rd       3.0\n",
      "5     abc   NaN       NaN\n"
     ]
    }
   ],
   "source": [
    "pqr=abc.drop_duplicates()\n",
    "print(pqr)"
   ]
  },
  {
   "cell_type": "code",
   "execution_count": 96,
   "metadata": {},
   "outputs": [
    {
     "name": "stdout",
     "output_type": "stream",
     "text": [
      "     name class  roll no.\n",
      "1    aman   1st       1.0\n",
      "2   asbdj   2nd       2.0\n",
      "3  hjdgcj   3rd       3.0\n"
     ]
    }
   ],
   "source": [
    "stu=pqr.dropna()\n",
    "print(stu)"
   ]
  },
  {
   "cell_type": "code",
   "execution_count": null,
   "metadata": {},
   "outputs": [],
   "source": []
  },
  {
   "cell_type": "code",
   "execution_count": 97,
   "metadata": {},
   "outputs": [
    {
     "name": "stdout",
     "output_type": "stream",
     "text": [
      "     name class roll no.\n",
      "1    aman   1st        1\n",
      "2   asbdj   2nd        2\n",
      "3  hjdgcj   3rd        3\n",
      "5     abc  abhh     abhh\n"
     ]
    }
   ],
   "source": [
    "mno=pqr.fillna(\"abhh\")\n",
    "print(mno)"
   ]
  },
  {
   "cell_type": "code",
   "execution_count": null,
   "metadata": {},
   "outputs": [],
   "source": []
  },
  {
   "cell_type": "code",
   "execution_count": null,
   "metadata": {},
   "outputs": [],
   "source": []
  },
  {
   "cell_type": "code",
   "execution_count": 71,
   "metadata": {},
   "outputs": [
    {
     "name": "stdout",
     "output_type": "stream",
     "text": [
      "   Unnamed: 0    name class  roll no.\n",
      "0           1    aman   1st       1.0\n",
      "1           2   asbdj   2nd       2.0\n",
      "2           3  hjdgcj   3rd       3.0\n",
      "3           3  hjdgcj   3rd       3.0\n",
      "4           5  dssfgh   NaN       NaN\n"
     ]
    }
   ],
   "source": [
    "a=p.read_csv(\"practice.csv\")\n",
    "print(a)"
   ]
  },
  {
   "cell_type": "code",
   "execution_count": 72,
   "metadata": {},
   "outputs": [
    {
     "name": "stdout",
     "output_type": "stream",
     "text": [
      "   Unnamed: 0    name class  roll no.\n",
      "0           1    aman   1st       1.0\n",
      "1           2   asbdj   2nd       2.0\n",
      "2           3  hjdgcj   3rd       3.0\n",
      "4           5  dssfgh   NaN       NaN\n"
     ]
    }
   ],
   "source": [
    "a=a.drop_duplicates()\n",
    "print(a)"
   ]
  },
  {
   "cell_type": "code",
   "execution_count": null,
   "metadata": {},
   "outputs": [],
   "source": []
  },
  {
   "cell_type": "code",
   "execution_count": 73,
   "metadata": {},
   "outputs": [
    {
     "name": "stdout",
     "output_type": "stream",
     "text": [
      "   Unnamed: 0    name class  roll no.\n",
      "0           1    aman   1st       1.0\n",
      "1           2   asbdj   2nd       2.0\n",
      "2           3  hjdgcj   3rd       3.0\n"
     ]
    }
   ],
   "source": [
    "b=a.dropna()\n",
    "print(b)"
   ]
  },
  {
   "cell_type": "code",
   "execution_count": null,
   "metadata": {},
   "outputs": [],
   "source": []
  },
  {
   "cell_type": "code",
   "execution_count": 74,
   "metadata": {},
   "outputs": [
    {
     "name": "stdout",
     "output_type": "stream",
     "text": [
      "   Unnamed: 0    name class roll no.\n",
      "0           1    aman   1st        1\n",
      "1           2   asbdj   2nd        2\n",
      "2           3  hjdgcj   3rd        3\n",
      "4           5  dssfgh  abhh     abhh\n"
     ]
    }
   ],
   "source": [
    "c=a.fillna(\"abhh\")\n",
    "print(c)"
   ]
  },
  {
   "cell_type": "code",
   "execution_count": null,
   "metadata": {},
   "outputs": [],
   "source": []
  },
  {
   "cell_type": "code",
   "execution_count": 75,
   "metadata": {},
   "outputs": [
    {
     "name": "stdout",
     "output_type": "stream",
     "text": [
      "3.0\n"
     ]
    }
   ],
   "source": [
    "print(a['roll no.'].max())"
   ]
  },
  {
   "cell_type": "code",
   "execution_count": 76,
   "metadata": {},
   "outputs": [
    {
     "name": "stdout",
     "output_type": "stream",
     "text": [
      "      name  age employment_status state  salary\n",
      "0    Anush   23               emp    pb    1000\n",
      "1   Ankush   32             unemp    pb    2000\n",
      "2   Alisha   21               emp    pb    3000\n",
      "3    Rohit   34               emp    hp    4000\n",
      "4    Komal   26             unemp    hr    5000\n",
      "5  Karthik   29               emp    hr    6000\n"
     ]
    }
   ],
   "source": [
    "d = pd.read_csv('stackdatasetex.csv')\n",
    "print(d)"
   ]
  },
  {
   "cell_type": "code",
   "execution_count": 77,
   "metadata": {},
   "outputs": [
    {
     "name": "stdout",
     "output_type": "stream",
     "text": [
      "6000\n"
     ]
    }
   ],
   "source": [
    "print(d['salary'].max())"
   ]
  },
  {
   "cell_type": "code",
   "execution_count": 78,
   "metadata": {},
   "outputs": [
    {
     "name": "stdout",
     "output_type": "stream",
     "text": [
      "emp      4\n",
      "unemp    2\n",
      "Name: employment_status, dtype: int64\n"
     ]
    }
   ],
   "source": [
    "e=d['employment_status'].value_counts()   \n",
    "print(e)"
   ]
  },
  {
   "cell_type": "code",
   "execution_count": 79,
   "metadata": {},
   "outputs": [
    {
     "name": "stdout",
     "output_type": "stream",
     "text": [
      "pb    3\n",
      "hr    2\n",
      "hp    1\n",
      "Name: state, dtype: int64\n"
     ]
    }
   ],
   "source": [
    "f=d['state'].value_counts()   \n",
    "print(f)"
   ]
  },
  {
   "cell_type": "code",
   "execution_count": 80,
   "metadata": {},
   "outputs": [
    {
     "name": "stdout",
     "output_type": "stream",
     "text": [
      "state\n",
      "hp    1\n",
      "hr    2\n",
      "pb    3\n",
      "Name: salary, dtype: int64\n"
     ]
    }
   ],
   "source": [
    "g=d.groupby([\"state\"])['salary'].count()\n",
    "print(g)"
   ]
  },
  {
   "cell_type": "code",
   "execution_count": 81,
   "metadata": {},
   "outputs": [
    {
     "name": "stdout",
     "output_type": "stream",
     "text": [
      "state\n",
      "hp    4000\n",
      "hr    5000\n",
      "pb    1000\n",
      "Name: salary, dtype: int64\n"
     ]
    }
   ],
   "source": [
    "h=d.groupby([\"state\"])['salary'].min()\n",
    "print(h)"
   ]
  },
  {
   "cell_type": "code",
   "execution_count": 82,
   "metadata": {},
   "outputs": [
    {
     "data": {
      "text/plain": [
       "array(['pb', 'hp', 'hr'], dtype=object)"
      ]
     },
     "execution_count": 82,
     "metadata": {},
     "output_type": "execute_result"
    }
   ],
   "source": [
    "d[\"state\"].unique()"
   ]
  },
  {
   "cell_type": "code",
   "execution_count": 83,
   "metadata": {},
   "outputs": [
    {
     "data": {
      "text/plain": [
       "3"
      ]
     },
     "execution_count": 83,
     "metadata": {},
     "output_type": "execute_result"
    }
   ],
   "source": [
    "d[\"state\"].nunique()"
   ]
  },
  {
   "cell_type": "code",
   "execution_count": 102,
   "metadata": {},
   "outputs": [
    {
     "name": "stdout",
     "output_type": "stream",
     "text": [
      "             age       salary\n",
      "count   6.000000     6.000000\n",
      "mean   27.500000  3500.000000\n",
      "std     5.089204  1870.828693\n",
      "min    21.000000  1000.000000\n",
      "25%    23.750000  2250.000000\n",
      "50%    27.500000  3500.000000\n",
      "75%    31.250000  4750.000000\n",
      "max    34.000000  6000.000000\n",
      "      name  age employment_status state  salary\n",
      "0    Anush   23               emp    pb    1000\n",
      "1   Ankush   32             unemp    pb    2000\n",
      "2   Alisha   21               emp    pb    3000\n",
      "3    Rohit   34               emp    hp    4000\n",
      "4    Komal   26             unemp    hr    5000\n",
      "5  Karthik   29               emp    hr    6000\n"
     ]
    }
   ],
   "source": [
    "d = pd.read_csv('stackdatasetex.csv')\n",
    "af=d.describe()\n",
    "print(af)\n",
    "print(d)"
   ]
  },
  {
   "cell_type": "code",
   "execution_count": 104,
   "metadata": {},
   "outputs": [
    {
     "name": "stdout",
     "output_type": "stream",
     "text": [
      "         Unnamed: 0         score  release_year  release_month   release_day\n",
      "count  18625.000000  18625.000000  18625.000000    18625.00000  18625.000000\n",
      "mean    9312.000000      6.950459   2006.515329        7.13847     15.603866\n",
      "std     5376.718717      1.711736      4.587529        3.47671      8.690128\n",
      "min        0.000000      0.500000   1970.000000        1.00000      1.000000\n",
      "25%     4656.000000      6.000000   2003.000000        4.00000      8.000000\n",
      "50%     9312.000000      7.300000   2007.000000        8.00000     16.000000\n",
      "75%    13968.000000      8.200000   2010.000000       10.00000     23.000000\n",
      "max    18624.000000     10.000000   2016.000000       12.00000     31.000000\n"
     ]
    }
   ],
   "source": [
    "z= pd.read_csv('ign.csv')\n",
    "af=z.describe()\n",
    "print(af)\n",
    "#print(z)"
   ]
  },
  {
   "cell_type": "code",
   "execution_count": null,
   "metadata": {},
   "outputs": [],
   "source": []
  }
 ],
 "metadata": {
  "kernelspec": {
   "display_name": "Python 3",
   "language": "python",
   "name": "python3"
  },
  "language_info": {
   "codemirror_mode": {
    "name": "ipython",
    "version": 3
   },
   "file_extension": ".py",
   "mimetype": "text/x-python",
   "name": "python",
   "nbconvert_exporter": "python",
   "pygments_lexer": "ipython3",
   "version": "3.8.5"
  }
 },
 "nbformat": 4,
 "nbformat_minor": 4
}
